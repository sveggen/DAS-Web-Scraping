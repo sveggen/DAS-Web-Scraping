{
 "cells": [
  {
   "cell_type": "markdown",
   "source": [],
   "metadata": {
    "collapsed": false
   }
  },
  {
   "cell_type": "code",
   "execution_count": 15,
   "metadata": {
    "collapsed": true,
    "pycharm": {
     "name": "#%%\n"
    }
   },
   "outputs": [
    {
     "data": {
      "text/plain": "                                                Title   Price\n0                                A Light in the Attic  £51.77\n1                                  Tipping the Velvet  £53.74\n2                                          Soumission  £50.10\n3                                       Sharp Objects  £47.82\n4               Sapiens: A Brief History of Humankind  £54.23\n5                                     The Requiem Red  £22.65\n6   The Dirty Little Secrets of Getting Your Dream...  £33.34\n7   The Coming Woman: A Novel Based on the Life of...  £17.93\n8   The Boys in the Boat: Nine Americans and Their...  £22.60\n9                                     The Black Maria  £52.15\n10     Starving Hearts (Triangular Trade Trilogy, #1)  £13.99\n11                              Shakespeare's Sonnets  £20.66\n12                                        Set Me Free  £17.46\n13  Scott Pilgrim's Precious Little Life (Scott Pi...  £52.29\n14                          Rip it Up and Start Again  £35.02\n15  Our Band Could Be Your Life: Scenes from the A...  £57.25\n16                                               Olio  £23.88\n17  Mesaerion: The Best Science Fiction Stories 18...  £37.59\n18                       Libertarianism for Beginners  £51.33\n19                            It's Only the Himalayas  £45.17",
      "text/html": "<div>\n<style scoped>\n    .dataframe tbody tr th:only-of-type {\n        vertical-align: middle;\n    }\n\n    .dataframe tbody tr th {\n        vertical-align: top;\n    }\n\n    .dataframe thead th {\n        text-align: right;\n    }\n</style>\n<table border=\"1\" class=\"dataframe\">\n  <thead>\n    <tr style=\"text-align: right;\">\n      <th></th>\n      <th>Title</th>\n      <th>Price</th>\n    </tr>\n  </thead>\n  <tbody>\n    <tr>\n      <th>0</th>\n      <td>A Light in the Attic</td>\n      <td>£51.77</td>\n    </tr>\n    <tr>\n      <th>1</th>\n      <td>Tipping the Velvet</td>\n      <td>£53.74</td>\n    </tr>\n    <tr>\n      <th>2</th>\n      <td>Soumission</td>\n      <td>£50.10</td>\n    </tr>\n    <tr>\n      <th>3</th>\n      <td>Sharp Objects</td>\n      <td>£47.82</td>\n    </tr>\n    <tr>\n      <th>4</th>\n      <td>Sapiens: A Brief History of Humankind</td>\n      <td>£54.23</td>\n    </tr>\n    <tr>\n      <th>5</th>\n      <td>The Requiem Red</td>\n      <td>£22.65</td>\n    </tr>\n    <tr>\n      <th>6</th>\n      <td>The Dirty Little Secrets of Getting Your Dream...</td>\n      <td>£33.34</td>\n    </tr>\n    <tr>\n      <th>7</th>\n      <td>The Coming Woman: A Novel Based on the Life of...</td>\n      <td>£17.93</td>\n    </tr>\n    <tr>\n      <th>8</th>\n      <td>The Boys in the Boat: Nine Americans and Their...</td>\n      <td>£22.60</td>\n    </tr>\n    <tr>\n      <th>9</th>\n      <td>The Black Maria</td>\n      <td>£52.15</td>\n    </tr>\n    <tr>\n      <th>10</th>\n      <td>Starving Hearts (Triangular Trade Trilogy, #1)</td>\n      <td>£13.99</td>\n    </tr>\n    <tr>\n      <th>11</th>\n      <td>Shakespeare's Sonnets</td>\n      <td>£20.66</td>\n    </tr>\n    <tr>\n      <th>12</th>\n      <td>Set Me Free</td>\n      <td>£17.46</td>\n    </tr>\n    <tr>\n      <th>13</th>\n      <td>Scott Pilgrim's Precious Little Life (Scott Pi...</td>\n      <td>£52.29</td>\n    </tr>\n    <tr>\n      <th>14</th>\n      <td>Rip it Up and Start Again</td>\n      <td>£35.02</td>\n    </tr>\n    <tr>\n      <th>15</th>\n      <td>Our Band Could Be Your Life: Scenes from the A...</td>\n      <td>£57.25</td>\n    </tr>\n    <tr>\n      <th>16</th>\n      <td>Olio</td>\n      <td>£23.88</td>\n    </tr>\n    <tr>\n      <th>17</th>\n      <td>Mesaerion: The Best Science Fiction Stories 18...</td>\n      <td>£37.59</td>\n    </tr>\n    <tr>\n      <th>18</th>\n      <td>Libertarianism for Beginners</td>\n      <td>£51.33</td>\n    </tr>\n    <tr>\n      <th>19</th>\n      <td>It's Only the Himalayas</td>\n      <td>£45.17</td>\n    </tr>\n  </tbody>\n</table>\n</div>"
     },
     "execution_count": 15,
     "metadata": {},
     "output_type": "execute_result"
    }
   ],
   "source": [
    "import os\n",
    "import requests\n",
    "import csv\n",
    "import pandas as pd\n",
    "from bs4 import BeautifulSoup\n",
    "\n",
    "# Website to scrape\n",
    "URL = \"https://books.toscrape.com/\"\n",
    "\n",
    "def get_website_content():\n",
    "    http_get = requests.get(URL)\n",
    "    html_content = http_get.text\n",
    "    return html_content\n",
    "\n",
    "def scrape_title_and_price() -> dict:\n",
    "    html_content = get_website_content()\n",
    "    soup = BeautifulSoup(html_content, 'html.parser')\n",
    "    books = soup.findAll('article', {'product_pod'})\n",
    "\n",
    "    # Dictionary to hold book titles and prices\n",
    "    title_and_price = { }\n",
    "\n",
    "    # Scrape all book titles and prices\n",
    "    for book in books:\n",
    "        title = book.h3.a[\"title\"]\n",
    "        price = book.find(class_=\"price_color\").get_text()\n",
    "        # Data cleanup (remove first character as it is noise to the data)\n",
    "        price = price[1:]\n",
    "        title_and_price[title] = price\n",
    "    return title_and_price\n",
    "\n",
    "def save_books_to_csv(books:dict):\n",
    "    with open('data' + os.sep + 'book_list.csv', 'w', encoding='UTF8') as file:\n",
    "        writer = csv.writer(file)\n",
    "        writer.writerow(['Title', 'Price'])\n",
    "        for key, value in books.items():\n",
    "            writer.writerow([key, value])\n",
    "\n",
    "\n",
    "# Run the webscraper\n",
    "book_dict = scrape_title_and_price()\n",
    "\n",
    "# Persist output to CSV file\n",
    "save_books_to_csv(book_dict)\n",
    "\n",
    "# Display generated CSV as a DataFrame\n",
    "pd.read_csv('data' + os.sep + 'book_list.csv')"
   ]
  }
 ],
 "metadata": {
  "kernelspec": {
   "display_name": "Python 3",
   "language": "python",
   "name": "python3"
  },
  "language_info": {
   "codemirror_mode": {
    "name": "ipython",
    "version": 2
   },
   "file_extension": ".py",
   "mimetype": "text/x-python",
   "name": "python",
   "nbconvert_exporter": "python",
   "pygments_lexer": "ipython2",
   "version": "2.7.6"
  }
 },
 "nbformat": 4,
 "nbformat_minor": 0
}