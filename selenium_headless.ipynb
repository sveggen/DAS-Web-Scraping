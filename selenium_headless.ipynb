{
 "cells": [
  {
   "cell_type": "markdown",
   "source": [
    "## Selenium for Python with browser in Headless mode"
   ],
   "metadata": {
    "collapsed": false
   }
  },
  {
   "cell_type": "code",
   "execution_count": 3,
   "metadata": {
    "collapsed": true,
    "pycharm": {
     "name": "#%%\n"
    }
   },
   "outputs": [
    {
     "data": {
      "text/plain": "                     Event                Location  \\\n0    Angular Global Summit                  Online   \n1                  ng-conf                  Online   \n2                 ng-china                  Online   \n3             EnterpriseNG                  Online   \n4                   ngrome                  Online   \n5                 DevReach                  Online   \n6                ngVikings            Oslo, Norway   \n7                  ng-conf    Salt Lake City, Utah   \n8                  ngIndia            Delhi, India   \n9             ReactiveConf  Prague, Czech Republic   \n10           NG Rome MMXIX             Rome, Italy   \n11          AngularConnect              London, UK   \n12                   NG-DE         Berlin, Germany   \n13                ng-japan            Tokyo, Japan   \n14               ngVikings     Copenhagen, Denmark   \n15                 ng-conf    Salt Lake City, Utah   \n16                ng-India          Gurgaon, India   \n17               ngAtlanta        Atlanta, Georgia   \n18          AngularConnect  London, United Kingdom   \n19            ReactiveConf  Prague, Czech Republic   \n20              AngularMix        Orlando, Florida   \n21  Angular Conf Australia    Melbourne, Australia   \n22                ng-japan            Tokyo, Japan   \n23         WeAreDevelopers         Vienna, Austria   \n24                 ng-conf    Salt Lake City, Utah   \n25               ngVikings       Helsinki, Finland   \n26               ngAtlanta        Atlanta, Georgia   \n\n                                                 Date  \n0                                      June 1-2, 2021  \n1   April 12-15 (workshops), April 22-23 (conferen...  \n2                                November 21-22, 2020  \n3                                November 19-20, 2020  \n4                                    October 20, 2020  \n5                                 October 19-23, 2020  \n6    May 25-26 (conference), May 27 (workshops), 2020  \n7                                     April 1-3, 2020  \n8                                   February 29, 2020  \n9                       October 30 - November 1, 2019  \n10  October 6 (workshops), October 7 (conference),...  \n11                              September 19-20, 2019  \n12  August 29 (workshops), August 30-31 (conferenc...  \n13                                      July 13, 2019  \n14   May 26 (workshops), May 27-28 (conference), 2019  \n15                                      May 1-3, 2019  \n16                                  February 23, 2019  \n17                                 January 9-12, 2019  \n18                                 November 5-7, 2018  \n19                                October 29-31, 2018  \n20                                October 10-12, 2018  \n21                                      June 22, 2018  \n22                                      June 16, 2018  \n23                                    May 16-18, 2018  \n24                                  April 18-20, 2018  \n25                                    March 1-2, 2018  \n26                                   January 30, 2018  ",
      "text/html": "<div>\n<style scoped>\n    .dataframe tbody tr th:only-of-type {\n        vertical-align: middle;\n    }\n\n    .dataframe tbody tr th {\n        vertical-align: top;\n    }\n\n    .dataframe thead th {\n        text-align: right;\n    }\n</style>\n<table border=\"1\" class=\"dataframe\">\n  <thead>\n    <tr style=\"text-align: right;\">\n      <th></th>\n      <th>Event</th>\n      <th>Location</th>\n      <th>Date</th>\n    </tr>\n  </thead>\n  <tbody>\n    <tr>\n      <th>0</th>\n      <td>Angular Global Summit</td>\n      <td>Online</td>\n      <td>June 1-2, 2021</td>\n    </tr>\n    <tr>\n      <th>1</th>\n      <td>ng-conf</td>\n      <td>Online</td>\n      <td>April 12-15 (workshops), April 22-23 (conferen...</td>\n    </tr>\n    <tr>\n      <th>2</th>\n      <td>ng-china</td>\n      <td>Online</td>\n      <td>November 21-22, 2020</td>\n    </tr>\n    <tr>\n      <th>3</th>\n      <td>EnterpriseNG</td>\n      <td>Online</td>\n      <td>November 19-20, 2020</td>\n    </tr>\n    <tr>\n      <th>4</th>\n      <td>ngrome</td>\n      <td>Online</td>\n      <td>October 20, 2020</td>\n    </tr>\n    <tr>\n      <th>5</th>\n      <td>DevReach</td>\n      <td>Online</td>\n      <td>October 19-23, 2020</td>\n    </tr>\n    <tr>\n      <th>6</th>\n      <td>ngVikings</td>\n      <td>Oslo, Norway</td>\n      <td>May 25-26 (conference), May 27 (workshops), 2020</td>\n    </tr>\n    <tr>\n      <th>7</th>\n      <td>ng-conf</td>\n      <td>Salt Lake City, Utah</td>\n      <td>April 1-3, 2020</td>\n    </tr>\n    <tr>\n      <th>8</th>\n      <td>ngIndia</td>\n      <td>Delhi, India</td>\n      <td>February 29, 2020</td>\n    </tr>\n    <tr>\n      <th>9</th>\n      <td>ReactiveConf</td>\n      <td>Prague, Czech Republic</td>\n      <td>October 30 - November 1, 2019</td>\n    </tr>\n    <tr>\n      <th>10</th>\n      <td>NG Rome MMXIX</td>\n      <td>Rome, Italy</td>\n      <td>October 6 (workshops), October 7 (conference),...</td>\n    </tr>\n    <tr>\n      <th>11</th>\n      <td>AngularConnect</td>\n      <td>London, UK</td>\n      <td>September 19-20, 2019</td>\n    </tr>\n    <tr>\n      <th>12</th>\n      <td>NG-DE</td>\n      <td>Berlin, Germany</td>\n      <td>August 29 (workshops), August 30-31 (conferenc...</td>\n    </tr>\n    <tr>\n      <th>13</th>\n      <td>ng-japan</td>\n      <td>Tokyo, Japan</td>\n      <td>July 13, 2019</td>\n    </tr>\n    <tr>\n      <th>14</th>\n      <td>ngVikings</td>\n      <td>Copenhagen, Denmark</td>\n      <td>May 26 (workshops), May 27-28 (conference), 2019</td>\n    </tr>\n    <tr>\n      <th>15</th>\n      <td>ng-conf</td>\n      <td>Salt Lake City, Utah</td>\n      <td>May 1-3, 2019</td>\n    </tr>\n    <tr>\n      <th>16</th>\n      <td>ng-India</td>\n      <td>Gurgaon, India</td>\n      <td>February 23, 2019</td>\n    </tr>\n    <tr>\n      <th>17</th>\n      <td>ngAtlanta</td>\n      <td>Atlanta, Georgia</td>\n      <td>January 9-12, 2019</td>\n    </tr>\n    <tr>\n      <th>18</th>\n      <td>AngularConnect</td>\n      <td>London, United Kingdom</td>\n      <td>November 5-7, 2018</td>\n    </tr>\n    <tr>\n      <th>19</th>\n      <td>ReactiveConf</td>\n      <td>Prague, Czech Republic</td>\n      <td>October 29-31, 2018</td>\n    </tr>\n    <tr>\n      <th>20</th>\n      <td>AngularMix</td>\n      <td>Orlando, Florida</td>\n      <td>October 10-12, 2018</td>\n    </tr>\n    <tr>\n      <th>21</th>\n      <td>Angular Conf Australia</td>\n      <td>Melbourne, Australia</td>\n      <td>June 22, 2018</td>\n    </tr>\n    <tr>\n      <th>22</th>\n      <td>ng-japan</td>\n      <td>Tokyo, Japan</td>\n      <td>June 16, 2018</td>\n    </tr>\n    <tr>\n      <th>23</th>\n      <td>WeAreDevelopers</td>\n      <td>Vienna, Austria</td>\n      <td>May 16-18, 2018</td>\n    </tr>\n    <tr>\n      <th>24</th>\n      <td>ng-conf</td>\n      <td>Salt Lake City, Utah</td>\n      <td>April 18-20, 2018</td>\n    </tr>\n    <tr>\n      <th>25</th>\n      <td>ngVikings</td>\n      <td>Helsinki, Finland</td>\n      <td>March 1-2, 2018</td>\n    </tr>\n    <tr>\n      <th>26</th>\n      <td>ngAtlanta</td>\n      <td>Atlanta, Georgia</td>\n      <td>January 30, 2018</td>\n    </tr>\n  </tbody>\n</table>\n</div>"
     },
     "execution_count": 3,
     "metadata": {},
     "output_type": "execute_result"
    }
   ],
   "source": [
    "import os.path\n",
    "import pandas as pd\n",
    "from selenium import webdriver\n",
    "from selenium.webdriver.chrome.options import Options\n",
    "\n",
    "URL = \"https://angular.io/events\"\n",
    "\n",
    "def get_website_output():\n",
    "    chrome_options = Options()\n",
    "    chrome_options.headless = True\n",
    "    # Path needs to be changed according to location of webdriver file\n",
    "    driver = webdriver.Chrome(executable_path=\"C:\\Program Files (x86)\" + os.path.sep + \"chromedriver\", options=chrome_options)\n",
    "    driver.get(URL)\n",
    "    return driver.find_element_by_tag_name('table')\n",
    "\n",
    "def scrape_content():\n",
    "    events = []\n",
    "    locations = []\n",
    "    dates = []\n",
    "    # Populate arrays with data from HTML table\n",
    "    for row in get_website_output().find_elements_by_class_name('ng-star-inserted'):\n",
    "        events.append(row.find_element_by_css_selector('th').text)\n",
    "        dates.append(row.find_element_by_css_selector('div').text)\n",
    "        locations.append(row.find_element_by_css_selector('td').text)\n",
    "    return pd.DataFrame(zip(events, locations, dates), columns=['Event', 'Location', 'Date'])\n",
    "\n",
    "# Run the webscraper\n",
    "scraped_output = scrape_content()\n",
    "\n",
    "# Persist output to CSV file\n",
    "scraped_output.to_csv('data' + os.sep + 'events_headless.csv', index=False)\n",
    "\n",
    "# Display generated CSV as a DataFrame\n",
    "pd.read_csv('data' + os.sep + 'events_headless.csv')"
   ]
  }
 ],
 "metadata": {
  "kernelspec": {
   "display_name": "Python 3",
   "language": "python",
   "name": "python3"
  },
  "language_info": {
   "codemirror_mode": {
    "name": "ipython",
    "version": 2
   },
   "file_extension": ".py",
   "mimetype": "text/x-python",
   "name": "python",
   "nbconvert_exporter": "python",
   "pygments_lexer": "ipython2",
   "version": "2.7.6"
  }
 },
 "nbformat": 4,
 "nbformat_minor": 0
}